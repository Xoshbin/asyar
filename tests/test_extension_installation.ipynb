{
 "cells": [
  {
   "cell_type": "markdown",
   "id": "8f68ebf2",
   "metadata": {},
   "source": [
    "# Setup Test Environment\n",
    "Initialize the test environment by creating a temporary directory to simulate the extension store and installation path."
   ]
  },
  {
   "cell_type": "code",
   "execution_count": null,
   "id": "505e7fb8",
   "metadata": {},
   "outputs": [],
   "source": [
    "# Setup Test Environment\n",
    "import os\n",
    "import tempfile\n",
    "import shutil\n",
    "\n",
    "# Create a temporary directory to simulate the extension store\n",
    "temp_dir = tempfile.mkdtemp()\n",
    "extension_store_path = os.path.join(temp_dir, \"extension_store\")\n",
    "os.makedirs(extension_store_path, exist_ok=True)\n",
    "\n",
    "# Define the installation path for extensions\n",
    "installation_path = os.path.join(temp_dir, \"installed_extensions\")\n",
    "os.makedirs(installation_path, exist_ok=True)\n",
    "\n",
    "print(f\"Extension store path: {extension_store_path}\")\n",
    "print(f\"Installation path: {installation_path}\")"
   ]
  },
  {
   "cell_type": "markdown",
   "id": "75f0e5c0",
   "metadata": {},
   "source": [
    "# Mock Extension Installation\n",
    "Simulate the installation of an extension by copying a mock extension file to the store folder."
   ]
  },
  {
   "cell_type": "code",
   "execution_count": null,
   "id": "57080dda",
   "metadata": {},
   "outputs": [],
   "source": [
    "# Mock Extension Installation\n",
    "# Create a mock extension file\n",
    "mock_extension_name = \"mock_extension.py\"\n",
    "mock_extension_content = \"\"\"\n",
    "def run():\n",
    "    return \"Extension is running successfully!\"\n",
    "\"\"\"\n",
    "\n",
    "mock_extension_path = os.path.join(extension_store_path, mock_extension_name)\n",
    "with open(mock_extension_path, \"w\") as f:\n",
    "    f.write(mock_extension_content)\n",
    "\n",
    "# Simulate installation by copying the mock extension to the installation path\n",
    "installed_extension_path = os.path.join(installation_path, mock_extension_name)\n",
    "shutil.copy(mock_extension_path, installed_extension_path)\n",
    "\n",
    "print(f\"Mock extension installed at: {installed_extension_path}\")"
   ]
  },
  {
   "cell_type": "markdown",
   "id": "0fd756a5",
   "metadata": {},
   "source": [
    "# Verify Extension Path\n",
    "Check if the installed extension is placed in the correct directory by verifying the file path."
   ]
  },
  {
   "cell_type": "code",
   "execution_count": null,
   "id": "12954328",
   "metadata": {},
   "outputs": [],
   "source": [
    "# Verify Extension Path\n",
    "# Check if the file exists in the installation path\n",
    "if os.path.exists(installed_extension_path):\n",
    "    print(f\"Extension is correctly placed at: {installed_extension_path}\")\n",
    "else:\n",
    "    print(\"Extension installation path verification failed.\")"
   ]
  },
  {
   "cell_type": "markdown",
   "id": "9954105c",
   "metadata": {},
   "source": [
    "# Test Extension Functionality\n",
    "Load the installed extension and test its functionality to ensure it is working as expected."
   ]
  },
  {
   "cell_type": "code",
   "execution_count": null,
   "id": "08d125a9",
   "metadata": {},
   "outputs": [],
   "source": [
    "# Test Extension Functionality\n",
    "import importlib.util\n",
    "\n",
    "# Load the installed extension dynamically\n",
    "spec = importlib.util.spec_from_file_location(\"mock_extension\", installed_extension_path)\n",
    "mock_extension = importlib.util.module_from_spec(spec)\n",
    "spec.loader.exec_module(mock_extension)\n",
    "\n",
    "# Test the functionality of the extension\n",
    "result = mock_extension.run()\n",
    "print(f\"Extension functionality test result: {result}\")"
   ]
  },
  {
   "cell_type": "markdown",
   "id": "2c7f8117",
   "metadata": {},
   "source": [
    "# Cleanup\n",
    "Remove the temporary directories and files created during the test to ensure no residual files are left behind."
   ]
  },
  {
   "cell_type": "code",
   "execution_count": null,
   "id": "4ce29e95",
   "metadata": {},
   "outputs": [],
   "source": [
    "# Cleanup\n",
    "shutil.rmtree(temp_dir)\n",
    "print(\"Temporary test environment cleaned up.\")"
   ]
  },
  {
   "cell_type": "markdown",
   "id": "a46e3ae3",
   "metadata": {},
   "source": [
    "# Test: Verify Extension Installation from Store"
   ]
  },
  {
   "cell_type": "code",
   "execution_count": null,
   "id": "4b8c35d5",
   "metadata": {},
   "outputs": [],
   "source": [
    "import os\n",
    "import shutil\n",
    "from unittest.mock import patch, MagicMock\n",
    "\n",
    "# Mock the environment and dependencies\n",
    "@patch('asyar-api.invoke')\n",
    "def test_extension_installation(mock_invoke):\n",
    "    # Setup\n",
    "    extension_slug = \"test-extension\"\n",
    "    extension_name = \"Test Extension\"\n",
    "    install_path = f\"/app/extensions/{extension_slug}\"\n",
    "\n",
    "    # Mock the API response for installation\n",
    "    mock_invoke.return_value = {\n",
    "        \"downloadUrl\": \"http://example.com/test-extension.zip\",\n",
    "        \"version\": \"1.0.0\"\n",
    "    }\n",
    "\n",
    "    # Simulate the installation process\n",
    "    os.makedirs(install_path, exist_ok=True)\n",
    "    with open(os.path.join(install_path, \"manifest.json\"), \"w\") as manifest_file:\n",
    "        manifest_file.write(\"{\"id\": \"test-extension\", \"name\": \"Test Extension\"}\")\n",
    "\n",
    "    # Verify the extension is placed in the correct path\n",
    "    assert os.path.exists(install_path), \"Extension path does not exist.\"\n",
    "    assert os.path.isfile(os.path.join(install_path, \"manifest.json\")), \"Manifest file is missing.\"\n",
    "\n",
    "    # Verify the extension is functional (mock execution)\n",
    "    mock_extension = MagicMock()\n",
    "    mock_extension.executeCommand.return_value = \"Command executed successfully.\"\n",
    "\n",
    "    result = mock_extension.executeCommand(\"test-command\")\n",
    "    assert result == \"Command executed successfully.\", \"Extension command did not execute successfully.\"\n",
    "\n",
    "    # Cleanup\n",
    "    shutil.rmtree(install_path)\n",
    "\n",
    "# Run the test\n",
    "test_extension_installation()"
   ]
  }
 ],
 "metadata": {
  "language_info": {
   "name": "python"
  }
 },
 "nbformat": 4,
 "nbformat_minor": 5
}
